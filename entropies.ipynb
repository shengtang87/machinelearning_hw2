{
 "cells": [
  {
   "cell_type": "code",
   "execution_count": 29,
   "metadata": {},
   "outputs": [],
   "source": [
    "import numpy as np\n",
    "import pandas as pd\n",
    "import math\n",
    "import random\n",
    "from numpy import sqrt\n",
    "from sklearn.metrics import f1_score\n",
    "from sklearn.metrics import precision_score\n",
    "from sklearn.metrics import f1_score\n",
    "from sklearn.metrics import accuracy_score\n",
    "from sklearn.metrics import recall_score"
   ]
  },
  {
   "cell_type": "code",
   "execution_count": 30,
   "metadata": {},
   "outputs": [
    {
     "name": "stdout",
     "output_type": "stream",
     "text": [
      "ans_entropy =  0.9709505944546686\n",
      "ans_entropy =  0.2899010363731181\n",
      "ans_entropy =  0.2536634068264783\n",
      "ans_entropy =  0.5435644431995964\n",
      "0.42699999999999994\n"
     ]
    }
   ],
   "source": [
    "def entropy(data):\n",
    "  \"\"\"\n",
    "  This function measures the amount of uncertainty in a probability distribution\n",
    "  args: \n",
    "  * data(type: DataFrame): the data you're calculating for the entropy\n",
    "  return:\n",
    "  * entropy_value(type: float): the data's entropy\n",
    "  \"\"\"\n",
    "  t=0\n",
    "  f=0\n",
    "  for i in data:\n",
    "    if(i == 0): f+=1\n",
    "    else: t+=1\n",
    "  \n",
    "  if(f==0 or t==0): \n",
    "    return 0\n",
    "    \n",
    "  entropy_value = -1*(t/(t+f))*math.log2(t/(t+f)) - (f/(t+f))*math.log2(f/(t+f)) \n",
    "  # print(\"entropy_value = \",entropy_value)\n",
    "  # display(data)\n",
    "  return entropy_value\n",
    "\n",
    "# [Note] You have to save th\n",
    "input_data = [0,0,0,1,1,1,1,0,0,0,0,1,0,1,0]\n",
    "ans_entropy = entropy(input_data)\n",
    "print(\"ans_entropy = \", ans_entropy)\n",
    "input_data = [0,0,0,0,0,0,1,0]\n",
    "ans_entropy = entropy(input_data)*(8/15)\n",
    "print(\"ans_entropy = \", ans_entropy)\n",
    "input_data2 = [1,1,1,1,0,1,0]\n",
    "ans_entropy2 = entropy(input_data)*(7/15)\n",
    "print(\"ans_entropy = \", ans_entropy2)\n",
    "print(\"ans_entropy = \", ans_entropy+ans_entropy2)\n",
    "print(0.971-0.544)"
   ]
  },
  {
   "cell_type": "code",
   "execution_count": 31,
   "metadata": {},
   "outputs": [
    {
     "data": {
      "text/plain": [
       "0.75"
      ]
     },
     "execution_count": 31,
     "metadata": {},
     "output_type": "execute_result"
    }
   ],
   "source": [
    "def calculate_score(y_true, y_pred):\n",
    "  \"\"\"\n",
    "  This function will calculate the f1-score of the predictions\n",
    "  args:\n",
    "  * y_true: the ground truth\n",
    "  * y_pred: the predictions\n",
    "  return:\n",
    "  * score: the f1-score\n",
    "  \"\"\"\n",
    "  score = f1_score(y_true, y_pred)\n",
    "  \n",
    "  return score\n",
    "\n",
    "true=[1,0,0,1,1,0,1,0,0]\n",
    "pred=[0,0,1,1,1,0,1,1,0]\n",
    "\n",
    "s= calculate_score(true,pred)\n",
    "precision = precision_score(true,pred)\n",
    "recall = recall_score(true,pred)\n",
    "recall"
   ]
  }
 ],
 "metadata": {
  "kernelspec": {
   "display_name": "Python 3.10.7 64-bit",
   "language": "python",
   "name": "python3"
  },
  "language_info": {
   "codemirror_mode": {
    "name": "ipython",
    "version": 3
   },
   "file_extension": ".py",
   "mimetype": "text/x-python",
   "name": "python",
   "nbconvert_exporter": "python",
   "pygments_lexer": "ipython3",
   "version": "3.10.7"
  },
  "orig_nbformat": 4,
  "vscode": {
   "interpreter": {
    "hash": "ed3903285db2e10c6c9c9d83ff274b0e512c1550eff84c52415e7593af16dec8"
   }
  }
 },
 "nbformat": 4,
 "nbformat_minor": 2
}
